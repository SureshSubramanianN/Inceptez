{
 "cells": [
  {
   "cell_type": "markdown",
   "id": "711dd680",
   "metadata": {},
   "source": [
    "### Write a program (with function) which takes a sequence of numbers and check if all numbers are unique."
   ]
  },
  {
   "cell_type": "code",
   "execution_count": 13,
   "id": "7c9f7144",
   "metadata": {},
   "outputs": [
    {
     "name": "stdout",
     "output_type": "stream",
     "text": [
      "5 5 5 6 6 8 8 8 8 8 8126 33 3 \n",
      "5 6 8 8126 33 3\n"
     ]
    }
   ],
   "source": [
    "from collections import Counter\n",
    "def uniq(list1):\n",
    "    print(*Counter(list1))\n",
    "lst = list(map(int, input().split()))\n",
    "uniq(lst)"
   ]
  },
  {
   "cell_type": "markdown",
   "id": "6a08557b",
   "metadata": {},
   "source": [
    "### Python program to find out the average of a set of integers\n",
    "\n",
    "a. Note: Don’t use the pre-defined functions like np.mean\n",
    "\n",
    "b. For ex: If input is 5, the output should be average of 1+2+3+4+5"
   ]
  },
  {
   "cell_type": "code",
   "execution_count": 16,
   "id": "28caec30",
   "metadata": {},
   "outputs": [
    {
     "name": "stdout",
     "output_type": "stream",
     "text": [
      "Integer count: 5\n",
      "Average of  5  is  3.0\n"
     ]
    }
   ],
   "source": [
    "num1 = int(input('Integer count: '))\n",
    "sum1 = sum(range(1, num1 + 1))\n",
    "\n",
    "avg = sum1 /num1\n",
    "\n",
    "print('Average of ', num1, ' is ', avg)"
   ]
  },
  {
   "cell_type": "markdown",
   "id": "31138b19",
   "metadata": {},
   "source": [
    "### Python program to check whether the given integer is a multiple of both 5 and 7"
   ]
  },
  {
   "cell_type": "code",
   "execution_count": 20,
   "id": "653bf959",
   "metadata": {},
   "outputs": [
    {
     "name": "stdout",
     "output_type": "stream",
     "text": [
      "enter num: 35\n",
      "Multiple of 5 and 7\n"
     ]
    }
   ],
   "source": [
    "num1 = int(input('enter num: '))\n",
    "if num1 % 5 == 0 and num1%7 == 0:\n",
    "    print ('Multiple of 5 and 7')\n",
    "else:\n",
    "    print ('Not a multiple of 5 and 7')"
   ]
  },
  {
   "cell_type": "markdown",
   "id": "96e5f5f5",
   "metadata": {},
   "source": [
    "### Python program to display the given integer in reverse manner\n",
    "a. Ex: input 852, output should be 258"
   ]
  },
  {
   "cell_type": "code",
   "execution_count": 22,
   "id": "afdca4f2",
   "metadata": {},
   "outputs": [
    {
     "name": "stdout",
     "output_type": "stream",
     "text": [
      "enter num: 852\n",
      "258\n"
     ]
    }
   ],
   "source": [
    "num = int(input('enter num: '))\n",
    "print(str(num)[::-1])"
   ]
  },
  {
   "cell_type": "markdown",
   "id": "009f4afc",
   "metadata": {},
   "source": [
    "### Create an inner function to calculate the addition in the following way\n",
    "a. Create an outer function that will accept two parameters, a and b\n",
    "\n",
    "b. Create an inner function inside an outer function that will calculate the addition of a and b\n",
    "\n",
    "c. At last, an outer function will add 5 into addition and return it"
   ]
  },
  {
   "cell_type": "code",
   "execution_count": 30,
   "id": "47457a5a",
   "metadata": {},
   "outputs": [
    {
     "name": "stdout",
     "output_type": "stream",
     "text": [
      "Enter a:1\n",
      "Enter b:1\n"
     ]
    },
    {
     "data": {
      "text/plain": [
       "7"
      ]
     },
     "execution_count": 30,
     "metadata": {},
     "output_type": "execute_result"
    }
   ],
   "source": [
    "def outer():\n",
    "    a = int(input(\"Enter a:\"))\n",
    "    b= int(input(\"Enter b:\"))\n",
    "    def add(x,y):\n",
    "        z = x+y\n",
    "        return z\n",
    "    output = a+b+5\n",
    "    return output\n",
    "\n",
    "outer()"
   ]
  },
  {
   "cell_type": "markdown",
   "id": "22cbabe0",
   "metadata": {},
   "source": [
    "### Python Program to Check Leap Year\n",
    "\n",
    "a. A leap year is exactly divisible by 4 except for century years (years ending with 00). The century year is a leap year only if it is perfectly divisible by 400\n",
    "\n",
    "b. For ex: 2017 is not a leap year, 1900 is a not leap year, 2012 is a leap year, 2000 is a leap year"
   ]
  },
  {
   "cell_type": "code",
   "execution_count": 25,
   "id": "b7a877a6",
   "metadata": {},
   "outputs": [
    {
     "name": "stdout",
     "output_type": "stream",
     "text": [
      "Enter year:2000\n",
      "This is a leap year: 2000\n"
     ]
    }
   ],
   "source": [
    "year = int(input('Enter year:'))\n",
    "if (year % 4 ==0) and (year % 100 != 0):\n",
    "    print(\"This is a leap year:\", year)\n",
    "elif (year % 400 == 0) and (year % 100 == 0):\n",
    "    print(\"This is a leap year:\", year)\n",
    "else:\n",
    "    print(\"This is not a leap year:\",year)"
   ]
  },
  {
   "cell_type": "code",
   "execution_count": null,
   "id": "29c61be0",
   "metadata": {},
   "outputs": [],
   "source": []
  }
 ],
 "metadata": {
  "kernelspec": {
   "display_name": "Python 3 (ipykernel)",
   "language": "python",
   "name": "python3"
  },
  "language_info": {
   "codemirror_mode": {
    "name": "ipython",
    "version": 3
   },
   "file_extension": ".py",
   "mimetype": "text/x-python",
   "name": "python",
   "nbconvert_exporter": "python",
   "pygments_lexer": "ipython3",
   "version": "3.9.7"
  }
 },
 "nbformat": 4,
 "nbformat_minor": 5
}
