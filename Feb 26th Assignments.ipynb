{
 "cells": [
  {
   "cell_type": "markdown",
   "id": "1740c9fa",
   "metadata": {},
   "source": [
    "## Please follow the below instructions for the assignment and upload the answers in your Github profile using the Jupyter notebook"
   ]
  },
  {
   "cell_type": "markdown",
   "id": "5016e545",
   "metadata": {},
   "source": [
    "## 1. Create a file calc.py which has following functions\t\n",
    "\n",
    "a. Function to find the factorial of a number\n",
    "b. Function to convert degree to Fahrenheit"
   ]
  },
  {
   "cell_type": "code",
   "execution_count": 35,
   "id": "72a943dc",
   "metadata": {},
   "outputs": [],
   "source": [
    "from my_package import calc"
   ]
  },
  {
   "cell_type": "markdown",
   "id": "fe10f724",
   "metadata": {},
   "source": [
    "## Write a new program in file “maths.py” such that you import functions of the file calc.py to your new program. Use from <module> import <functions> statement to import the functions from the calc module"
   ]
  },
  {
   "cell_type": "code",
   "execution_count": 31,
   "id": "fa08c468",
   "metadata": {},
   "outputs": [],
   "source": [
    "from my_package import maths"
   ]
  },
  {
   "cell_type": "code",
   "execution_count": 36,
   "id": "311d1bb7",
   "metadata": {},
   "outputs": [
    {
     "name": "stdout",
     "output_type": "stream",
     "text": [
      "3628800\n"
     ]
    }
   ],
   "source": [
    "maths.fact(10)"
   ]
  },
  {
   "cell_type": "code",
   "execution_count": 39,
   "id": "947cfe81",
   "metadata": {},
   "outputs": [
    {
     "ename": "AttributeError",
     "evalue": "module 'my_package.calc' has no attribute 'far_to_deg'",
     "output_type": "error",
     "traceback": [
      "\u001b[1;31m---------------------------------------------------------------------------\u001b[0m",
      "\u001b[1;31mAttributeError\u001b[0m                            Traceback (most recent call last)",
      "\u001b[1;32m~\\AppData\\Local\\Temp/ipykernel_21056/1072964864.py\u001b[0m in \u001b[0;36m<module>\u001b[1;34m\u001b[0m\n\u001b[1;32m----> 1\u001b[1;33m \u001b[0mcalc\u001b[0m\u001b[1;33m.\u001b[0m\u001b[0mfar_to_deg\u001b[0m\u001b[1;33m(\u001b[0m\u001b[1;36m110\u001b[0m\u001b[1;33m)\u001b[0m\u001b[1;33m\u001b[0m\u001b[1;33m\u001b[0m\u001b[0m\n\u001b[0m",
      "\u001b[1;31mAttributeError\u001b[0m: module 'my_package.calc' has no attribute 'far_to_deg'"
     ]
    }
   ],
   "source": [
    "calc.far_to_deg(110)"
   ]
  },
  {
   "cell_type": "markdown",
   "id": "639d9dfd",
   "metadata": {},
   "source": [
    "## 2.\tImplement a simple generator for Fibonacci series"
   ]
  },
  {
   "cell_type": "code",
   "execution_count": 43,
   "id": "e3f608c4",
   "metadata": {},
   "outputs": [
    {
     "name": "stdout",
     "output_type": "stream",
     "text": [
      "Enter num for fib:1\n",
      "0\n"
     ]
    }
   ],
   "source": [
    "def fib(a=0, b=1):\n",
    "      while True:\n",
    "        yield a\n",
    "        a, b = b, a + b\n",
    "\n",
    "f = fib()\n",
    "num = int(input(\"Enter num for fib:\"))\n",
    "print(', '.join(str(next(f)) for _ in range(num)))"
   ]
  },
  {
   "cell_type": "code",
   "execution_count": 48,
   "id": "653bfdea",
   "metadata": {},
   "outputs": [
    {
     "name": "stdout",
     "output_type": "stream",
     "text": [
      "0\n",
      "1\n",
      "1\n",
      "2\n",
      "3\n",
      "5\n"
     ]
    }
   ],
   "source": [
    "def fib():\n",
    "    a=0\n",
    "    b=1\n",
    "    while True:\n",
    "        yield a\n",
    "        a, b = b, a + b\n",
    "\n",
    "f = fib()\n",
    "print(next(f))\n",
    "print(next(f))\n",
    "print(next(f))\n",
    "print(next(f))\n",
    "print(next(f))\n",
    "print(next(f))"
   ]
  },
  {
   "cell_type": "markdown",
   "id": "9660bcea",
   "metadata": {},
   "source": [
    "## 3.\tWrite an iterator class to iterate over a sequence of values in the reverse direction"
   ]
  },
  {
   "cell_type": "code",
   "execution_count": 52,
   "id": "4e006e51",
   "metadata": {},
   "outputs": [
    {
     "name": "stdout",
     "output_type": "stream",
     "text": [
      "n\n",
      "a\n",
      "i\n",
      "n\n",
      "a\n",
      "m\n",
      "a\n",
      "r\n",
      "b\n",
      "u\n",
      "S\n"
     ]
    }
   ],
   "source": [
    "str1 = 'Subramanian'\n",
    "for c in reversed(str1):\n",
    "     print (c)"
   ]
  },
  {
   "cell_type": "code",
   "execution_count": 53,
   "id": "1af22e34",
   "metadata": {},
   "outputs": [],
   "source": [
    "def reverse(text):\n",
    "    x = \"\"\n",
    "    for i in range(len(text)):\n",
    "        x = x + text[len(text)-i-1]\n",
    "    return x"
   ]
  },
  {
   "cell_type": "code",
   "execution_count": 54,
   "id": "eb4694d6",
   "metadata": {},
   "outputs": [
    {
     "data": {
      "text/plain": [
       "'nohtyP'"
      ]
     },
     "execution_count": 54,
     "metadata": {},
     "output_type": "execute_result"
    }
   ],
   "source": [
    "reverse(\"Python\")"
   ]
  },
  {
   "cell_type": "markdown",
   "id": "e2b76d61",
   "metadata": {},
   "source": [
    "## 4.\tWrite a function “salary” that takes in base pay, HRA and special allowance as arguments and returns the sum of all the 3 salary elements. Then create a decorator function to add an additional element “Tax” (30% of base pay) and assign it back to base pay variable, and return the function (i.e., the final calculation of salary also includes tax)"
   ]
  },
  {
   "cell_type": "code",
   "execution_count": 115,
   "id": "d1172c17",
   "metadata": {},
   "outputs": [],
   "source": [
    "def sal(func):\n",
    "    def before_tax(Basepay, HRA, Spl_allowance):\n",
    "        pay = Basepay + HRA + Spl_allowance\n",
    "        print (\"Before tax:\", pay)\n",
    "        return func(pay, HRA, Spl_allowance)\n",
    "    return before_tax"
   ]
  },
  {
   "cell_type": "code",
   "execution_count": 120,
   "id": "55f230e8",
   "metadata": {},
   "outputs": [],
   "source": [
    "@sal\n",
    "def tax_sal(Basepay, HRA, Spl_allowance):\n",
    "    Basic = Basepay - (Basepay*(30/100))\n",
    "    sal = Basic + HRA + Spl_allowance\n",
    "    print (\"After Tax: \", sal)"
   ]
  },
  {
   "cell_type": "code",
   "execution_count": 122,
   "id": "94c52df4",
   "metadata": {},
   "outputs": [
    {
     "name": "stdout",
     "output_type": "stream",
     "text": [
      "Before tax: 12000\n",
      "After Tax:  10400.0\n"
     ]
    }
   ],
   "source": [
    "tax_sal(10000,1000,1000)"
   ]
  },
  {
   "cell_type": "markdown",
   "id": "b36c0d30",
   "metadata": {},
   "source": [
    "## 5.\tWrite 3 examples on possible methods to changing a tuple"
   ]
  },
  {
   "cell_type": "code",
   "execution_count": 123,
   "id": "7098277d",
   "metadata": {},
   "outputs": [],
   "source": [
    "tuple1 = (1,2,3,4)\n",
    "tuple2 = tuple1 + (5,6,7)"
   ]
  },
  {
   "cell_type": "code",
   "execution_count": 139,
   "id": "1e370d1a",
   "metadata": {},
   "outputs": [
    {
     "name": "stdout",
     "output_type": "stream",
     "text": [
      "(1, 2, 3, 4, 5, 6, 7)\n"
     ]
    },
    {
     "data": {
      "text/plain": [
       "tuple"
      ]
     },
     "execution_count": 139,
     "metadata": {},
     "output_type": "execute_result"
    }
   ],
   "source": [
    "print (tuple2)\n",
    "type(tuple2)"
   ]
  },
  {
   "cell_type": "code",
   "execution_count": 126,
   "id": "86bc39e5",
   "metadata": {},
   "outputs": [
    {
     "name": "stdout",
     "output_type": "stream",
     "text": [
      "[1, 2, 3, 4, 5, 6, 7]\n"
     ]
    }
   ],
   "source": [
    "list1 = list (tuple2)\n",
    "print (list1)"
   ]
  },
  {
   "cell_type": "code",
   "execution_count": 136,
   "id": "812c4b4b",
   "metadata": {},
   "outputs": [
    {
     "name": "stdout",
     "output_type": "stream",
     "text": [
      "cba\n"
     ]
    }
   ],
   "source": [
    "tuple3 = ('c','b','a')\n",
    "str1 = ''.join(tuple3)\n",
    "print (str1)"
   ]
  },
  {
   "cell_type": "code",
   "execution_count": 138,
   "id": "fa457960",
   "metadata": {},
   "outputs": [
    {
     "name": "stdout",
     "output_type": "stream",
     "text": [
      "('a', 'b', 'c')\n"
     ]
    }
   ],
   "source": [
    "str2 = tuple(sorted(str1))\n",
    "print (str2)"
   ]
  },
  {
   "cell_type": "code",
   "execution_count": null,
   "id": "d1e4cd70",
   "metadata": {},
   "outputs": [],
   "source": []
  }
 ],
 "metadata": {
  "kernelspec": {
   "display_name": "Python 3 (ipykernel)",
   "language": "python",
   "name": "python3"
  },
  "language_info": {
   "codemirror_mode": {
    "name": "ipython",
    "version": 3
   },
   "file_extension": ".py",
   "mimetype": "text/x-python",
   "name": "python",
   "nbconvert_exporter": "python",
   "pygments_lexer": "ipython3",
   "version": "3.9.7"
  }
 },
 "nbformat": 4,
 "nbformat_minor": 5
}
