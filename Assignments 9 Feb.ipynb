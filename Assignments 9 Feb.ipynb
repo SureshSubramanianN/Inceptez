{
 "cells": [
  {
   "cell_type": "markdown",
   "metadata": {},
   "source": [
    "## 1) Set/Change Current directory"
   ]
  },
  {
   "cell_type": "code",
   "execution_count": 1,
   "metadata": {},
   "outputs": [],
   "source": [
    "import os"
   ]
  },
  {
   "cell_type": "code",
   "execution_count": 31,
   "metadata": {
    "scrolled": true
   },
   "outputs": [
    {
     "name": "stdout",
     "output_type": "stream",
     "text": [
      "C:\\Users\\subramanian2\\Python programs\n"
     ]
    }
   ],
   "source": [
    "print(os.getcwd())"
   ]
  },
  {
   "cell_type": "code",
   "execution_count": 32,
   "metadata": {},
   "outputs": [],
   "source": [
    "os.chdir(\"C:/Users/subramanian2\")"
   ]
  },
  {
   "cell_type": "code",
   "execution_count": 33,
   "metadata": {},
   "outputs": [
    {
     "name": "stdout",
     "output_type": "stream",
     "text": [
      "C:\\Users\\subramanian2\n"
     ]
    }
   ],
   "source": [
    "print(os.getcwd())"
   ]
  },
  {
   "cell_type": "code",
   "execution_count": 34,
   "metadata": {},
   "outputs": [],
   "source": [
    "os.chdir(\"C:/Users/subramanian2/Python programs\")"
   ]
  },
  {
   "cell_type": "code",
   "execution_count": 35,
   "metadata": {},
   "outputs": [
    {
     "name": "stdout",
     "output_type": "stream",
     "text": [
      "C:\\Users\\subramanian2\\Python programs\n"
     ]
    }
   ],
   "source": [
    "print(os.getcwd())"
   ]
  },
  {
   "cell_type": "markdown",
   "metadata": {},
   "source": [
    "## 2) Create int, float and string and then delete in next cell"
   ]
  },
  {
   "cell_type": "code",
   "execution_count": 25,
   "metadata": {},
   "outputs": [],
   "source": [
    "list1 = ['id', 2.4, 2 ]"
   ]
  },
  {
   "cell_type": "code",
   "execution_count": 26,
   "metadata": {},
   "outputs": [
    {
     "name": "stdout",
     "output_type": "stream",
     "text": [
      "['id', 2.4, 2]\n"
     ]
    }
   ],
   "source": [
    "print(list1)"
   ]
  },
  {
   "cell_type": "code",
   "execution_count": 23,
   "metadata": {},
   "outputs": [],
   "source": [
    "del(list1)"
   ]
  },
  {
   "cell_type": "code",
   "execution_count": 24,
   "metadata": {},
   "outputs": [
    {
     "ename": "NameError",
     "evalue": "name 'list1' is not defined",
     "output_type": "error",
     "traceback": [
      "\u001b[1;31m---------------------------------------------------------------------------\u001b[0m",
      "\u001b[1;31mNameError\u001b[0m                                 Traceback (most recent call last)",
      "\u001b[1;32m<ipython-input-24-7fd613c3c7e4>\u001b[0m in \u001b[0;36m<module>\u001b[1;34m\u001b[0m\n\u001b[1;32m----> 1\u001b[1;33m \u001b[0mprint\u001b[0m\u001b[1;33m(\u001b[0m\u001b[0mlist1\u001b[0m\u001b[1;33m)\u001b[0m\u001b[1;33m\u001b[0m\u001b[1;33m\u001b[0m\u001b[0m\n\u001b[0m",
      "\u001b[1;31mNameError\u001b[0m: name 'list1' is not defined"
     ]
    }
   ],
   "source": [
    "print(list1)"
   ]
  },
  {
   "cell_type": "markdown",
   "metadata": {},
   "source": [
    "## 3) Assigning a value to keyword"
   ]
  },
  {
   "cell_type": "code",
   "execution_count": 30,
   "metadata": {},
   "outputs": [
    {
     "ename": "SyntaxError",
     "evalue": "can't assign to keyword (<ipython-input-30-1598b51f0f76>, line 1)",
     "output_type": "error",
     "traceback": [
      "\u001b[1;36m  File \u001b[1;32m\"<ipython-input-30-1598b51f0f76>\"\u001b[1;36m, line \u001b[1;32m1\u001b[0m\n\u001b[1;33m    True = 1\u001b[0m\n\u001b[1;37m            ^\u001b[0m\n\u001b[1;31mSyntaxError\u001b[0m\u001b[1;31m:\u001b[0m can't assign to keyword\n"
     ]
    }
   ],
   "source": [
    "True = 1"
   ]
  },
  {
   "cell_type": "markdown",
   "metadata": {},
   "source": [
    "## 4) Multiline statement and assign it to a variable without /"
   ]
  },
  {
   "cell_type": "code",
   "execution_count": 37,
   "metadata": {},
   "outputs": [],
   "source": [
    "a = (1 +\n",
    "2 + 3 + 4 +\n",
    "5)"
   ]
  },
  {
   "cell_type": "code",
   "execution_count": 38,
   "metadata": {},
   "outputs": [
    {
     "name": "stdout",
     "output_type": "stream",
     "text": [
      "15\n"
     ]
    }
   ],
   "source": [
    "print (a)"
   ]
  },
  {
   "cell_type": "markdown",
   "metadata": {},
   "source": [
    "## 5) Print from 100 to 999 with step size 8"
   ]
  },
  {
   "cell_type": "code",
   "execution_count": 53,
   "metadata": {},
   "outputs": [
    {
     "name": "stdout",
     "output_type": "stream",
     "text": [
      "100\n",
      "108\n",
      "116\n",
      "124\n",
      "132\n",
      "140\n",
      "148\n",
      "156\n",
      "164\n",
      "172\n",
      "180\n",
      "188\n",
      "196\n",
      "204\n",
      "212\n",
      "220\n",
      "228\n",
      "236\n",
      "244\n",
      "252\n",
      "260\n",
      "268\n",
      "276\n",
      "284\n",
      "292\n",
      "300\n",
      "308\n",
      "316\n",
      "324\n",
      "332\n",
      "340\n",
      "348\n",
      "356\n",
      "364\n",
      "372\n",
      "380\n",
      "388\n",
      "396\n",
      "404\n",
      "412\n",
      "420\n",
      "428\n",
      "436\n",
      "444\n",
      "452\n",
      "460\n",
      "468\n",
      "476\n",
      "484\n",
      "492\n",
      "500\n",
      "508\n",
      "516\n",
      "524\n",
      "532\n",
      "540\n",
      "548\n",
      "556\n",
      "564\n",
      "572\n",
      "580\n",
      "588\n",
      "596\n",
      "604\n",
      "612\n",
      "620\n",
      "628\n",
      "636\n",
      "644\n",
      "652\n",
      "660\n",
      "668\n",
      "676\n",
      "684\n",
      "692\n",
      "700\n",
      "708\n",
      "716\n",
      "724\n",
      "732\n",
      "740\n",
      "748\n",
      "756\n",
      "764\n",
      "772\n",
      "780\n",
      "788\n",
      "796\n",
      "804\n",
      "812\n",
      "820\n",
      "828\n",
      "836\n",
      "844\n",
      "852\n",
      "860\n",
      "868\n",
      "876\n",
      "884\n",
      "892\n",
      "900\n",
      "908\n",
      "916\n",
      "924\n",
      "932\n",
      "940\n",
      "948\n",
      "956\n",
      "964\n",
      "972\n",
      "980\n",
      "988\n",
      "996\n"
     ]
    }
   ],
   "source": [
    "for i in range (100, 1000, 8):\n",
    "    print (i)"
   ]
  },
  {
   "cell_type": "code",
   "execution_count": 63,
   "metadata": {},
   "outputs": [
    {
     "data": {
      "text/plain": [
       "[100,\n",
       " 108,\n",
       " 116,\n",
       " 124,\n",
       " 132,\n",
       " 140,\n",
       " 148,\n",
       " 156,\n",
       " 164,\n",
       " 172,\n",
       " 180,\n",
       " 188,\n",
       " 196,\n",
       " 204,\n",
       " 212,\n",
       " 220,\n",
       " 228,\n",
       " 236,\n",
       " 244,\n",
       " 252,\n",
       " 260,\n",
       " 268,\n",
       " 276,\n",
       " 284,\n",
       " 292,\n",
       " 300,\n",
       " 308,\n",
       " 316,\n",
       " 324,\n",
       " 332,\n",
       " 340,\n",
       " 348,\n",
       " 356,\n",
       " 364,\n",
       " 372,\n",
       " 380,\n",
       " 388,\n",
       " 396,\n",
       " 404,\n",
       " 412,\n",
       " 420,\n",
       " 428,\n",
       " 436,\n",
       " 444,\n",
       " 452,\n",
       " 460,\n",
       " 468,\n",
       " 476,\n",
       " 484,\n",
       " 492,\n",
       " 500,\n",
       " 508,\n",
       " 516,\n",
       " 524,\n",
       " 532,\n",
       " 540,\n",
       " 548,\n",
       " 556,\n",
       " 564,\n",
       " 572,\n",
       " 580,\n",
       " 588,\n",
       " 596,\n",
       " 604,\n",
       " 612,\n",
       " 620,\n",
       " 628,\n",
       " 636,\n",
       " 644,\n",
       " 652,\n",
       " 660,\n",
       " 668,\n",
       " 676,\n",
       " 684,\n",
       " 692,\n",
       " 700,\n",
       " 708,\n",
       " 716,\n",
       " 724,\n",
       " 732,\n",
       " 740,\n",
       " 748,\n",
       " 756,\n",
       " 764,\n",
       " 772,\n",
       " 780,\n",
       " 788,\n",
       " 796,\n",
       " 804,\n",
       " 812,\n",
       " 820,\n",
       " 828,\n",
       " 836,\n",
       " 844,\n",
       " 852,\n",
       " 860,\n",
       " 868,\n",
       " 876,\n",
       " 884,\n",
       " 892,\n",
       " 900,\n",
       " 908,\n",
       " 916,\n",
       " 924,\n",
       " 932,\n",
       " 940,\n",
       " 948,\n",
       " 956,\n",
       " 964,\n",
       " 972,\n",
       " 980,\n",
       " 988,\n",
       " 996]"
      ]
     },
     "execution_count": 63,
     "metadata": {},
     "output_type": "execute_result"
    }
   ],
   "source": [
    "list(range (100, 1000, 8))"
   ]
  },
  {
   "cell_type": "markdown",
   "metadata": {},
   "source": [
    "## 6) Write a “for” loop to print out the ‘n’ values and break out of the statement if the value is ‘n/2’"
   ]
  },
  {
   "cell_type": "code",
   "execution_count": 89,
   "metadata": {},
   "outputs": [
    {
     "name": "stdout",
     "output_type": "stream",
     "text": [
      "1\n",
      "2\n",
      "3\n",
      "4\n"
     ]
    }
   ],
   "source": [
    "list1 = [1,2,3,4,5,6,7,8,9,10]\n",
    "for i in list1:\n",
    "    if i == len(list1)/2:\n",
    "        break\n",
    "    print (i)"
   ]
  },
  {
   "cell_type": "markdown",
   "metadata": {},
   "source": [
    "## 7) Import pakage and find area of triangle"
   ]
  },
  {
   "cell_type": "markdown",
   "metadata": {},
   "source": [
    "1) Create aot folder in site-package\\\n",
    "2) Create area_of_triangle.py file with code below:\\\n",
    "\\\n",
    "import math\\\n",
    "from math import sqrt\\\n",
    "def area_of_tri(a,b,c):\\\n",
    "    s = (a+b+c)/2\\\n",
    "    area = sqrt(s*(s-a) * (s-b) * (s-c))\\\n",
    "    return (area)\n",
    "   "
   ]
  },
  {
   "cell_type": "code",
   "execution_count": 5,
   "metadata": {},
   "outputs": [],
   "source": [
    "import aot"
   ]
  },
  {
   "cell_type": "code",
   "execution_count": 6,
   "metadata": {},
   "outputs": [],
   "source": [
    "from aot import area_of_triangle"
   ]
  },
  {
   "cell_type": "code",
   "execution_count": 10,
   "metadata": {},
   "outputs": [
    {
     "ename": "ValueError",
     "evalue": "math domain error",
     "output_type": "error",
     "traceback": [
      "\u001b[1;31m---------------------------------------------------------------------------\u001b[0m",
      "\u001b[1;31mValueError\u001b[0m                                Traceback (most recent call last)",
      "\u001b[1;32m<ipython-input-10-465f386415b7>\u001b[0m in \u001b[0;36m<module>\u001b[1;34m\u001b[0m\n\u001b[1;32m----> 1\u001b[1;33m \u001b[0marea_of_triangle\u001b[0m\u001b[1;33m.\u001b[0m\u001b[0marea_of_tri\u001b[0m\u001b[1;33m(\u001b[0m\u001b[1;36m15\u001b[0m\u001b[1;33m,\u001b[0m\u001b[1;36m51\u001b[0m\u001b[1;33m,\u001b[0m\u001b[1;36m17\u001b[0m\u001b[1;33m)\u001b[0m\u001b[1;33m\u001b[0m\u001b[1;33m\u001b[0m\u001b[0m\n\u001b[0m",
      "\u001b[1;32m~\\Anaconda3\\lib\\site-packages\\aot\\area_of_triangle.py\u001b[0m in \u001b[0;36marea_of_tri\u001b[1;34m(a, b, c)\u001b[0m\n\u001b[0;32m      3\u001b[0m \u001b[1;32mdef\u001b[0m \u001b[0marea_of_tri\u001b[0m\u001b[1;33m(\u001b[0m\u001b[0ma\u001b[0m\u001b[1;33m,\u001b[0m\u001b[0mb\u001b[0m\u001b[1;33m,\u001b[0m\u001b[0mc\u001b[0m\u001b[1;33m)\u001b[0m\u001b[1;33m:\u001b[0m\u001b[1;33m\u001b[0m\u001b[1;33m\u001b[0m\u001b[0m\n\u001b[0;32m      4\u001b[0m     \u001b[0ms\u001b[0m \u001b[1;33m=\u001b[0m \u001b[1;33m(\u001b[0m\u001b[0ma\u001b[0m\u001b[1;33m+\u001b[0m\u001b[0mb\u001b[0m\u001b[1;33m+\u001b[0m\u001b[0mc\u001b[0m\u001b[1;33m)\u001b[0m\u001b[1;33m/\u001b[0m\u001b[1;36m2\u001b[0m\u001b[1;33m\u001b[0m\u001b[1;33m\u001b[0m\u001b[0m\n\u001b[1;32m----> 5\u001b[1;33m     \u001b[0marea\u001b[0m \u001b[1;33m=\u001b[0m \u001b[0msqrt\u001b[0m\u001b[1;33m(\u001b[0m\u001b[0ms\u001b[0m\u001b[1;33m*\u001b[0m\u001b[1;33m(\u001b[0m\u001b[0ms\u001b[0m\u001b[1;33m-\u001b[0m\u001b[0ma\u001b[0m\u001b[1;33m)\u001b[0m \u001b[1;33m*\u001b[0m \u001b[1;33m(\u001b[0m\u001b[0ms\u001b[0m\u001b[1;33m-\u001b[0m\u001b[0mb\u001b[0m\u001b[1;33m)\u001b[0m \u001b[1;33m*\u001b[0m \u001b[1;33m(\u001b[0m\u001b[0ms\u001b[0m\u001b[1;33m-\u001b[0m\u001b[0mc\u001b[0m\u001b[1;33m)\u001b[0m\u001b[1;33m)\u001b[0m\u001b[1;33m\u001b[0m\u001b[1;33m\u001b[0m\u001b[0m\n\u001b[0m\u001b[0;32m      6\u001b[0m     \u001b[1;32mreturn\u001b[0m \u001b[1;33m(\u001b[0m\u001b[0marea\u001b[0m\u001b[1;33m)\u001b[0m\u001b[1;33m\u001b[0m\u001b[1;33m\u001b[0m\u001b[0m\n",
      "\u001b[1;31mValueError\u001b[0m: math domain error"
     ]
    }
   ],
   "source": [
    "area_of_triangle.area_of_tri(15,51,17)"
   ]
  },
  {
   "cell_type": "markdown",
   "metadata": {},
   "source": [
    " - -> Above code works with other values"
   ]
  },
  {
   "cell_type": "markdown",
   "metadata": {},
   "source": [
    "## 8) Print odd nos from 0 to 100 using list comp"
   ]
  },
  {
   "cell_type": "code",
   "execution_count": 15,
   "metadata": {},
   "outputs": [],
   "source": [
    "list3 = range(0,100)"
   ]
  },
  {
   "cell_type": "markdown",
   "metadata": {},
   "source": [
    "## 9) list comprehension to print the odd numbers from 0 to 100"
   ]
  },
  {
   "cell_type": "code",
   "execution_count": 16,
   "metadata": {},
   "outputs": [
    {
     "data": {
      "text/plain": [
       "[1,\n",
       " 3,\n",
       " 5,\n",
       " 7,\n",
       " 9,\n",
       " 11,\n",
       " 13,\n",
       " 15,\n",
       " 17,\n",
       " 19,\n",
       " 21,\n",
       " 23,\n",
       " 25,\n",
       " 27,\n",
       " 29,\n",
       " 31,\n",
       " 33,\n",
       " 35,\n",
       " 37,\n",
       " 39,\n",
       " 41,\n",
       " 43,\n",
       " 45,\n",
       " 47,\n",
       " 49,\n",
       " 51,\n",
       " 53,\n",
       " 55,\n",
       " 57,\n",
       " 59,\n",
       " 61,\n",
       " 63,\n",
       " 65,\n",
       " 67,\n",
       " 69,\n",
       " 71,\n",
       " 73,\n",
       " 75,\n",
       " 77,\n",
       " 79,\n",
       " 81,\n",
       " 83,\n",
       " 85,\n",
       " 87,\n",
       " 89,\n",
       " 91,\n",
       " 93,\n",
       " 95,\n",
       " 97,\n",
       " 99]"
      ]
     },
     "execution_count": 16,
     "metadata": {},
     "output_type": "execute_result"
    }
   ],
   "source": [
    "[a for a in list3 if a%2 != 0]"
   ]
  },
  {
   "cell_type": "markdown",
   "metadata": {},
   "source": [
    "## 10) Remove vowels from a name"
   ]
  },
  {
   "cell_type": "code",
   "execution_count": 17,
   "metadata": {},
   "outputs": [],
   "source": [
    "name = \"Suresh Subramanian\""
   ]
  },
  {
   "cell_type": "code",
   "execution_count": 58,
   "metadata": {},
   "outputs": [
    {
     "name": "stdout",
     "output_type": "stream",
     "text": [
      "['S', 'r', 's', 'h', ' ', 'S', 'b', 'r', 'm', 'n', 'n']\n"
     ]
    }
   ],
   "source": [
    "vowels = ['a','e','i','o','u']\n",
    "output = [i for i in name if i not in vowels]\n",
    "print(output)"
   ]
  }
 ],
 "metadata": {
  "kernelspec": {
   "display_name": "Python 3",
   "language": "python",
   "name": "python3"
  },
  "language_info": {
   "codemirror_mode": {
    "name": "ipython",
    "version": 3
   },
   "file_extension": ".py",
   "mimetype": "text/x-python",
   "name": "python",
   "nbconvert_exporter": "python",
   "pygments_lexer": "ipython3",
   "version": "3.7.6"
  }
 },
 "nbformat": 4,
 "nbformat_minor": 4
}
