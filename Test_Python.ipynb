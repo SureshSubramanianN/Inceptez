{
 "cells": [
  {
   "cell_type": "markdown",
   "id": "f79b4dfa",
   "metadata": {},
   "source": [
    "### Questions"
   ]
  },
  {
   "cell_type": "markdown",
   "id": "c5730676",
   "metadata": {},
   "source": [
    "1.\tCreate a program that asks the user to enter their name and their age. Print out a message that tells them the year that they will turn 100 years old\n",
    "2.\tWhat is pandas groupby? Demonstrate with your own example\n",
    "3.\tHow to create a dataframe from list?\n",
    "4.\tWhat are the ways to combine the dataframe in pandas. Give an example for each\n",
    "5.\tWhat is the difference between list and tuples in Python?\n",
    "6.\tFind out the mean, median and standard deviation of this numpy array -> np.array([1,5,3,100,4,48])\n",
    "7.\tHow will you remove duplicate elements from a list?\n",
    "8.\tWhat is a map() function in Python? Give an example\n",
    "9.\tWhat is pass in Python?\n",
    "10.\tWhat is vstack() in numpy? Give an example\n"
   ]
  },
  {
   "cell_type": "code",
   "execution_count": 5,
   "id": "63494e75",
   "metadata": {},
   "outputs": [
    {
     "name": "stdout",
     "output_type": "stream",
     "text": [
      "Enter your age:33\n",
      "Enter your Name:Suresh\n",
      "You will turn 100 years on: 2089\n"
     ]
    }
   ],
   "source": [
    "#Create a program that asks the user to enter their name and their age. \n",
    "#Print out a message that tells them the year that they will turn 100 years old\n",
    "from datetime import date\n",
    "  \n",
    "age = int(input(\"Enter your age:\"))\n",
    "name = input (\"Enter your Name:\")\n",
    "birth_year = (date.today().year) - age\n",
    "print(\"You will turn 100 years on:\", birth_year+100)"
   ]
  },
  {
   "cell_type": "code",
   "execution_count": 8,
   "id": "0793dcde",
   "metadata": {},
   "outputs": [
    {
     "data": {
      "text/plain": [
       "U.S. Region\n",
       "Northeast    32.750000\n",
       "Northwest    40.500000\n",
       "Southeast    31.000000\n",
       "Southwest    29.857143\n",
       "Name: Age, dtype: float64"
      ]
     },
     "execution_count": 8,
     "metadata": {},
     "output_type": "execute_result"
    }
   ],
   "source": [
    "#What is pandas groupby? Demonstrate with your own example\n",
    "\n",
    "# Groupby is a function to split the data into unique categories by making an aggregation on the output dataset\n",
    "\n",
    "import pandas as pd\n",
    "import numpy as np\n",
    "Table = pd.DataFrame({ 'Age' :  [25,30,45,35,33,35,25,52,21,24,48,22,27,28,21,51,23] ,\n",
    " 'Hair Color' :  [ 'Black' , 'Black' , 'Red' , 'Blond' , 'Brown' , 'Brown' , 'Black' , 'Brown' , 'Blond' , 'Blond' , 'Black' , 'Black' , 'Brown' , 'Black' , 'Blond' , 'Black' , 'Brown' ] ,\n",
    " 'U.S. Region' :  [ 'Southwest' , 'Northwest' , 'Northeast' , 'Southwest' , 'Southwest' , 'Northeast' , 'Southwest' , 'Southeast' , 'Southwest' , 'Northeast' , 'Southwest' , 'Southwest' , 'Northeast' , 'Southeast' , 'Southeast' , 'Northwest' , 'Southeast' ] ,\n",
    " 'Validation' :  [1,1,1,0,0,0,0,0,1,0,1,0,0,1,1,0,1] \n",
    "})\n",
    "Table.groupby(['U.S. Region'])['Age'].agg(np.mean)"
   ]
  },
  {
   "cell_type": "code",
   "execution_count": 12,
   "id": "28995c10",
   "metadata": {},
   "outputs": [
    {
     "data": {
      "text/html": [
       "<div>\n",
       "<style scoped>\n",
       "    .dataframe tbody tr th:only-of-type {\n",
       "        vertical-align: middle;\n",
       "    }\n",
       "\n",
       "    .dataframe tbody tr th {\n",
       "        vertical-align: top;\n",
       "    }\n",
       "\n",
       "    .dataframe thead th {\n",
       "        text-align: right;\n",
       "    }\n",
       "</style>\n",
       "<table border=\"1\" class=\"dataframe\">\n",
       "  <thead>\n",
       "    <tr style=\"text-align: right;\">\n",
       "      <th></th>\n",
       "      <th>S.no</th>\n",
       "      <th>First Name</th>\n",
       "      <th>Height</th>\n",
       "      <th>Second Name</th>\n",
       "    </tr>\n",
       "  </thead>\n",
       "  <tbody>\n",
       "    <tr>\n",
       "      <th>0</th>\n",
       "      <td>1</td>\n",
       "      <td>Chandler</td>\n",
       "      <td>5.9</td>\n",
       "      <td>Bing</td>\n",
       "    </tr>\n",
       "    <tr>\n",
       "      <th>1</th>\n",
       "      <td>2</td>\n",
       "      <td>Ross</td>\n",
       "      <td>6.2</td>\n",
       "      <td>Geller</td>\n",
       "    </tr>\n",
       "    <tr>\n",
       "      <th>2</th>\n",
       "      <td>3</td>\n",
       "      <td>Monica</td>\n",
       "      <td>5.8</td>\n",
       "      <td>Geller</td>\n",
       "    </tr>\n",
       "    <tr>\n",
       "      <th>3</th>\n",
       "      <td>4</td>\n",
       "      <td>Joey</td>\n",
       "      <td>6.0</td>\n",
       "      <td>Tribiani</td>\n",
       "    </tr>\n",
       "    <tr>\n",
       "      <th>4</th>\n",
       "      <td>5</td>\n",
       "      <td>Phoebe</td>\n",
       "      <td>6.0</td>\n",
       "      <td>Buffay</td>\n",
       "    </tr>\n",
       "    <tr>\n",
       "      <th>5</th>\n",
       "      <td>6</td>\n",
       "      <td>Rachel</td>\n",
       "      <td>5.7</td>\n",
       "      <td>Green</td>\n",
       "    </tr>\n",
       "    <tr>\n",
       "      <th>6</th>\n",
       "      <td>7</td>\n",
       "      <td>Emma</td>\n",
       "      <td>2.5</td>\n",
       "      <td>Geller</td>\n",
       "    </tr>\n",
       "    <tr>\n",
       "      <th>7</th>\n",
       "      <td>8</td>\n",
       "      <td>Ben</td>\n",
       "      <td>4.5</td>\n",
       "      <td>Geller</td>\n",
       "    </tr>\n",
       "  </tbody>\n",
       "</table>\n",
       "</div>"
      ],
      "text/plain": [
       "   S.no First Name  Height Second Name\n",
       "0     1   Chandler     5.9        Bing\n",
       "1     2       Ross     6.2      Geller\n",
       "2     3     Monica     5.8      Geller\n",
       "3     4       Joey     6.0    Tribiani\n",
       "4     5     Phoebe     6.0      Buffay\n",
       "5     6     Rachel     5.7       Green\n",
       "6     7       Emma     2.5      Geller\n",
       "7     8        Ben     4.5      Geller"
      ]
     },
     "execution_count": 12,
     "metadata": {},
     "output_type": "execute_result"
    }
   ],
   "source": [
    "# How to create a dataframe from list?\n",
    "# Create a list of list with values; declare a dataframe object and include that list along with column names (optional)\n",
    "\n",
    "list1 = [[1,'Chandler',5.9,'Bing'],\n",
    "         [2,'Ross',6.2,'Geller'],\n",
    "         [3,'Monica',5.8,'Geller'],\n",
    "         [4,'Joey',6.0,'Tribiani'],\n",
    "         [5,'Phoebe',6.0,'Buffay'],\n",
    "         [6,'Rachel',5.7,'Green'],\n",
    "         [7,'Emma',2.5,'Geller'],\n",
    "         [8,'Ben',4.5,'Geller']]\n",
    "\n",
    "df = pd.DataFrame (list1, columns= ('S.no',\"First Name\",'Height','Second Name'))\n",
    "df"
   ]
  },
  {
   "cell_type": "code",
   "execution_count": 19,
   "id": "0962a835",
   "metadata": {},
   "outputs": [
    {
     "data": {
      "text/html": [
       "<div>\n",
       "<style scoped>\n",
       "    .dataframe tbody tr th:only-of-type {\n",
       "        vertical-align: middle;\n",
       "    }\n",
       "\n",
       "    .dataframe tbody tr th {\n",
       "        vertical-align: top;\n",
       "    }\n",
       "\n",
       "    .dataframe thead th {\n",
       "        text-align: right;\n",
       "    }\n",
       "</style>\n",
       "<table border=\"1\" class=\"dataframe\">\n",
       "  <thead>\n",
       "    <tr style=\"text-align: right;\">\n",
       "      <th></th>\n",
       "      <th>S.no</th>\n",
       "      <th>First Name</th>\n",
       "      <th>Height</th>\n",
       "      <th>Second Name</th>\n",
       "    </tr>\n",
       "  </thead>\n",
       "  <tbody>\n",
       "  </tbody>\n",
       "</table>\n",
       "</div>"
      ],
      "text/plain": [
       "Empty DataFrame\n",
       "Columns: [S.no, First Name, Height, Second Name]\n",
       "Index: []"
      ]
     },
     "execution_count": 19,
     "metadata": {},
     "output_type": "execute_result"
    }
   ],
   "source": [
    "# What are the ways to combine the dataframe in pandas. Give an example for each\n",
    "\n",
    "df1 = df.head(3)\n",
    "df2 = df.tail(3)\n",
    "\n",
    "#Concat\n",
    "pd.concat([df1,df2])\n",
    "\n",
    "#Join\n",
    "pd.concat([df1,df2], axis = 1, join = 'outer')\n",
    "\n",
    "#append\n",
    "df1.append(df2)\n",
    "\n",
    "#merge\n",
    "\n",
    "df1.merge(df2)"
   ]
  },
  {
   "cell_type": "code",
   "execution_count": 22,
   "id": "0487f0ba",
   "metadata": {},
   "outputs": [],
   "source": [
    "#What is the difference between list and tuples in Python?\n",
    "\n",
    "#Lists are mutable whereas tuples are immutable. The syntax for list is [] where as for tuple it is (). \n",
    "#The list follows an ordered operation and can contain multiple datatypes. Both follows similar indexing method (0 to n-1)\n",
    "\n",
    "list1 = ['a', 12, 5.6]\n",
    "tuple1 = (1,2,3)"
   ]
  },
  {
   "cell_type": "code",
   "execution_count": 25,
   "id": "ae3a5413",
   "metadata": {},
   "outputs": [
    {
     "name": "stdout",
     "output_type": "stream",
     "text": [
      "26.833333333333332\n",
      "4.5\n",
      "36.59424666377065\n"
     ]
    }
   ],
   "source": [
    "#Find out the mean, median and standard deviation of this numpy array -> np.array([1,5,3,100,4,48])\n",
    "array1 = np.array([1,5,3,100,4,48])\n",
    "print(np.mean(array1,axis=0))\n",
    "print(np.median(array1,axis=0))\n",
    "print(np.std(array1,axis=0))"
   ]
  },
  {
   "cell_type": "code",
   "execution_count": 26,
   "id": "6bf797f9",
   "metadata": {},
   "outputs": [
    {
     "data": {
      "text/plain": [
       "[1, 2, 3, 4, 5]"
      ]
     },
     "execution_count": 26,
     "metadata": {},
     "output_type": "execute_result"
    }
   ],
   "source": [
    "# How will you remove duplicate elements from a list?\n",
    "#enumerate is one of an option\n",
    "\n",
    "list2 = [1,2,3,4,5,5,5,5,5]\n",
    "res = [i for n, i in enumerate(list2) if i not in list2[:n]]\n",
    "res"
   ]
  },
  {
   "cell_type": "code",
   "execution_count": 28,
   "id": "81876b7f",
   "metadata": {},
   "outputs": [
    {
     "data": {
      "text/plain": [
       "[2, 4, 6, 8, 10, 10, 10, 10, 10]"
      ]
     },
     "execution_count": 28,
     "metadata": {},
     "output_type": "execute_result"
    }
   ],
   "source": [
    "#What is a map() function in Python? Give an example\n",
    "\n",
    "#Map applies the predefined function for all the items in any datatype variable\n",
    "\n",
    "new_list = map(lambda x:x*2, list2)\n",
    "list(new_list)"
   ]
  },
  {
   "cell_type": "code",
   "execution_count": 40,
   "id": "28295d3b",
   "metadata": {},
   "outputs": [],
   "source": [
    "#What is pass in Python?\n",
    "\n",
    "#The compiler will ignore the code execution after this statement and will skip out of the implementation but will retain the executed output for future\n",
    "# Ex - \n",
    "\n",
    "def fun1(x):\n",
    "    if x == 2:\n",
    "        pass\n",
    "    else:\n",
    "        print (\"Not 2\")\n",
    "    \n",
    "fun1(2)    "
   ]
  },
  {
   "cell_type": "code",
   "execution_count": 39,
   "id": "7e3ee811",
   "metadata": {},
   "outputs": [
    {
     "name": "stdout",
     "output_type": "stream",
     "text": [
      "vstack: \n",
      " [[3 1 1]\n",
      " [1 0 3]\n",
      " [8 6 8]\n",
      " [9 9 8]]\n"
     ]
    }
   ],
   "source": [
    "# What is vstack() in numpy? Give an example\n",
    "\n",
    "#Vstack or vertical stack is a function to vertically stack multiple arrays to form a single array\n",
    "\n",
    "#Eg- \n",
    "\n",
    "array1 = np.random.randint(0,5, size=(2, 3))\n",
    "array2 = np.random.randint(6,10, size=(2, 3))\n",
    "print(\"vstack: \\n\",np.vstack((array1,array2)))"
   ]
  }
 ],
 "metadata": {
  "kernelspec": {
   "display_name": "Python 3 (ipykernel)",
   "language": "python",
   "name": "python3"
  },
  "language_info": {
   "codemirror_mode": {
    "name": "ipython",
    "version": 3
   },
   "file_extension": ".py",
   "mimetype": "text/x-python",
   "name": "python",
   "nbconvert_exporter": "python",
   "pygments_lexer": "ipython3",
   "version": "3.9.7"
  }
 },
 "nbformat": 4,
 "nbformat_minor": 5
}
